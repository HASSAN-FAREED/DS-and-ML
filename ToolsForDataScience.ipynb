{
  "nbformat": 4,
  "nbformat_minor": 0,
  "metadata": {
    "colab": {
      "provenance": [],
      "authorship_tag": "ABX9TyOEiEvqaghwZ73tF/GsCa1R",
      "include_colab_link": true
    },
    "kernelspec": {
      "name": "python3",
      "display_name": "Python 3"
    },
    "language_info": {
      "name": "python"
    }
  },
  "cells": [
    {
      "cell_type": "markdown",
      "metadata": {
        "id": "view-in-github",
        "colab_type": "text"
      },
      "source": [
        "<a href=\"https://colab.research.google.com/github/HASSAN-FAREED/DS-and-ML/blob/master/ToolsForDataScience.ipynb\" target=\"_parent\"><img src=\"https://colab.research.google.com/assets/colab-badge.svg\" alt=\"Open In Colab\"/></a>"
      ]
    },
    {
      "cell_type": "markdown",
      "source": [
        "This is my Google Colab NoteBook"
      ],
      "metadata": {
        "id": "9EzzHldOORDZ"
      }
    },
    {
      "cell_type": "markdown",
      "source": [
        "The below should print Hey from Collab"
      ],
      "metadata": {
        "id": "9aUp3qXy1ept"
      }
    },
    {
      "cell_type": "markdown",
      "source": [
        "Data science languages:\n",
        "1. Python\n",
        "2. R\n",
        "3. SQL\n",
        "4. Java\n",
        "5. MATLAB\n",
        "6. Scala"
      ],
      "metadata": {
        "id": "TWrsx9ZX1rOY"
      }
    },
    {
      "cell_type": "markdown",
      "source": [
        "Data science libraries\n",
        "1. Scikit-learn\n",
        "2. TensorFlow\n",
        "3. Theano\n",
        "4. Pandas\n",
        "5. NumPy\n",
        "6. SciPy"
      ],
      "metadata": {
        "id": "glbkkrxY17s7"
      }
    },
    {
      "cell_type": "markdown",
      "source": [
        "Data science tools\n",
        "1. Tableau\n",
        "2. Apache Spark\n",
        "3. MATLAB\n",
        "4. TensorFlow"
      ],
      "metadata": {
        "id": "X-5knvg22bpv"
      }
    },
    {
      "cell_type": "markdown",
      "source": [
        "Arithmetic Expression examples\n",
        "$E = mc^2$"
      ],
      "metadata": {
        "id": "19C80J0Y33Df"
      }
    },
    {
      "cell_type": "code",
      "source": [
        "#Code to multiply two numbers\n",
        "Mul = 2 * 2\n",
        "print(Mul)\n",
        "#Code to add two numbers\n",
        "Add = 3 + 2\n",
        "print(Add)"
      ],
      "metadata": {
        "colab": {
          "base_uri": "https://localhost:8080/"
        },
        "id": "g7I80ruv5gT5",
        "outputId": "4f725663-422d-4e4b-fa90-94f1e0d289f8"
      },
      "execution_count": 1,
      "outputs": [
        {
          "output_type": "stream",
          "name": "stdout",
          "text": [
            "4\n",
            "4\n"
          ]
        }
      ]
    },
    {
      "cell_type": "code",
      "source": [
        "#Python code to convert minutes to hours\n",
        "min = int(input(\"Enter minutes : \"))\n",
        "print(\"Hour : Minute : \", int(min/60),\" : \", min%60)"
      ],
      "metadata": {
        "colab": {
          "base_uri": "https://localhost:8080/"
        },
        "id": "Z4TtgFgi5kr6",
        "outputId": "0a60c4a2-1753-4480-e2d3-d3c6db178b77"
      },
      "execution_count": 3,
      "outputs": [
        {
          "output_type": "stream",
          "name": "stdout",
          "text": [
            "Enter minutes : 120\n",
            "Hour : Minute :  2  :  0\n"
          ]
        }
      ]
    },
    {
      "cell_type": "markdown",
      "source": [
        "List of Objectives\n",
        "\n",
        "\n",
        "1.   Objective 1\n",
        "2.   Objective 2\n"
      ],
      "metadata": {
        "id": "oezJUOcQ7h0n"
      }
    },
    {
      "cell_type": "markdown",
      "source": [
        "Hi this is Hassan fareed"
      ],
      "metadata": {
        "id": "6XXlnllH6XfT"
      }
    }
  ]
}