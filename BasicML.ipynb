{
  "nbformat": 4,
  "nbformat_minor": 0,
  "metadata": {
    "colab": {
      "name": "BasicML.ipynb",
      "provenance": [],
      "collapsed_sections": [],
      "toc_visible": true,
      "authorship_tag": "ABX9TyPnOA0IADzOyn5cz2scpn1s",
      "include_colab_link": true
    },
    "kernelspec": {
      "name": "python3",
      "display_name": "Python 3"
    }
  },
  "cells": [
    {
      "cell_type": "markdown",
      "metadata": {
        "id": "view-in-github",
        "colab_type": "text"
      },
      "source": [
        "<a href=\"https://colab.research.google.com/github/HASSAN-FAREED/master/blob/master/BasicML.ipynb\" target=\"_parent\"><img src=\"https://colab.research.google.com/assets/colab-badge.svg\" alt=\"Open In Colab\"/></a>"
      ]
    },
    {
      "cell_type": "code",
      "metadata": {
        "id": "aOMYrVl702Ui"
      },
      "source": [
        "import numpy\r\n",
        "from scipy import stats\r\n",
        "def mean():\r\n",
        "  speed = [86,87,88,86,87,85,86]\r\n",
        "  x = numpy.mean(speed)\r\n",
        "  return x\r\n",
        "def median():\r\n",
        "  y = numpy.median(speed)\r\n",
        "  return y\r\n",
        "def mode():\r\n",
        "  z = stats.mode(speed)\r\n",
        "  return z\r\n",
        "def std():\r\n",
        "  s = numpy.std(speed)\r\n",
        "  return s\r\n",
        "def var():\r\n",
        "  v = numpy.var(speed)\r\n",
        "  return v\r\n",
        "#functon call\r\n",
        "print(\"mean :\",mean())\r\n",
        "print(\"median :\",median())\r\n",
        "print(\"mode :\",mode())\r\n",
        "print(\"Standard deviation :\",std())\r\n",
        "print(\"Variance :\",var())"
      ],
      "execution_count": null,
      "outputs": []
    },
    {
      "cell_type": "code",
      "metadata": {
        "id": "popa2k-5wxzx"
      },
      "source": [
        "import numpy\r\n",
        "age = [21,31,42,54,91,83,69.78]\r\n",
        "inp = int(input(\"Enter any age\"))\r\n",
        "def per():\r\n",
        "  p = numpy.percentile(age,inp)\r\n",
        "  return p\r\n",
        "def random():\r\n",
        "  r = numpy.random.uniform(0.0,5.0,50)\r\n",
        "  return r\r\n",
        "#function call\r\n",
        "print(\"percentile\",per())\r\n",
        "print(\"Random floats 0.0-5.0 \",random())"
      ],
      "execution_count": null,
      "outputs": []
    },
    {
      "cell_type": "code",
      "metadata": {
        "id": "1krH7dfP0KHS"
      },
      "source": [
        "import matplotlib.pyplot as plt\r\n",
        "def his():\r\n",
        "  h = numpy.random.uniform(0.0,0.5,50)\r\n",
        "  plt.hist(h,10)\r\n",
        "  plt.show()\r\n",
        "def norm():\r\n",
        "  n = numpy.random.normal(0.0,0.5,50)\r\n",
        "  plt.hist(n,10)\r\n",
        "  plt.show()\r\n",
        "#function call\r\n",
        "his()\r\n",
        "norm()"
      ],
      "execution_count": null,
      "outputs": []
    },
    {
      "cell_type": "code",
      "metadata": {
        "colab": {
          "base_uri": "https://localhost:8080/",
          "height": 515
        },
        "id": "Mq_nTLm4O01K",
        "outputId": "dc958d2e-1e3d-42fc-ef0a-5d77cf645778"
      },
      "source": [
        "import matplotlib.pyplot as plt\r\n",
        "import numpy\r\n",
        "x = [5,4,6,7,10,11,20]\r\n",
        "y = [99,80,98,100,101,102,103]\r\n",
        "def scat():\r\n",
        "  plt.scatter(x,y)\r\n",
        "  plt.show()\r\n",
        "def rand():\r\n",
        "  #random data distribution\r\n",
        "  p = numpy.random.normal(5.0,1.0,1000)\r\n",
        "  q = numpy.random.normal(10.0,2.0,1000)\r\n",
        "  plt.scatter(p,q)\r\n",
        "  plt.show()\r\n",
        "scat()\r\n",
        "rand()"
      ],
      "execution_count": 3,
      "outputs": [
        {
          "output_type": "display_data",
          "data": {
            "image/png": "[encoded data removed]",
            "text/plain": [
              "<Figure size 432x288 with 1 Axes>"
            ]
          },
          "metadata": {
            "tags": [],
            "needs_background": "light"
          }
        },
        {
          "output_type": "display_data",
          "data": {
            "image/png": "[encoded data removed]",
            "text/plain": [
              "<Figure size 432x288 with 1 Axes>"
            ]
          },
          "metadata": {
            "tags": [],
            "needs_background": "light"
          }
        }
      ]
    },
    {
      "cell_type": "code",
      "metadata": {
        "id": "8CApvoDb2Om0"
      },
      "source": [
        ""
      ],
      "execution_count": null,
      "outputs": []
    }
  ]
}