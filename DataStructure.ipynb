{
  "nbformat": 4,
  "nbformat_minor": 0,
  "metadata": {
    "colab": {
      "name": "DataStructure.ipynb",
      "provenance": [],
      "collapsed_sections": [],
      "authorship_tag": "ABX9TyMAEyjTjuguOh65vVQdSn7h",
      "include_colab_link": true
    },
    "kernelspec": {
      "name": "python3",
      "display_name": "Python 3"
    }
  },
  "cells": [
    {
      "cell_type": "markdown",
      "metadata": {
        "id": "view-in-github",
        "colab_type": "text"
      },
      "source": [
        "<a href=\"https://colab.research.google.com/github/HASSAN-FAREED/master/blob/master/DataStructure.ipynb\" target=\"_parent\"><img src=\"https://colab.research.google.com/assets/colab-badge.svg\" alt=\"Open In Colab\"/></a>"
      ]
    },
    {
      "cell_type": "code",
      "metadata": {
        "colab": {
          "base_uri": "https://localhost:8080/"
        },
        "id": "ALo6damOHFVh",
        "outputId": "35f21cf3-9cbc-4725-ed20-c0e7bd180af6"
      },
      "source": [
        "from collections import deque\r\n",
        "llist = deque([1,2,3,4])\r\n",
        "print(llist)"
      ],
      "execution_count": 3,
      "outputs": [
        {
          "output_type": "stream",
          "text": [
            "deque([1, 2, 3, 4])\n"
          ],
          "name": "stdout"
        }
      ]
    },
    {
      "cell_type": "code",
      "metadata": {
        "colab": {
          "base_uri": "https://localhost:8080/"
        },
        "id": "s5757WihOdoh",
        "outputId": "0adabc4a-37c3-464b-eacd-71c987d00b03"
      },
      "source": [
        "class LinkedList:\r\n",
        "  def __init__(self):\r\n",
        "    self.head = None\r\n",
        "    \r\n",
        "  def __repr__(self):\r\n",
        "    node = self.head\r\n",
        "    nodes =[]\r\n",
        "    while node is not None:\r\n",
        "      nodes.append(node.data)\r\n",
        "      node = node.next\r\n",
        "    nodes.append(\"None\")\r\n",
        "    return ' -> '.join(nodes)\r\n",
        "class Node:\r\n",
        "  def __init__(self,data):\r\n",
        "    self.data = data\r\n",
        "    self.next = None\r\n",
        "  def __repr__(self):\r\n",
        "    return self.data\r\n",
        "\r\n",
        "\r\n",
        "llist = LinkedList()\r\n",
        "first_Node = Node('a')\r\n",
        "llist.head = first_Node\r\n",
        "second_Node = Node('b')\r\n",
        "first_Node.next = second_Node\r\n",
        "third_Node = Node('c')\r\n",
        "second_Node.next = third_Node\r\n",
        "print(llist)"
      ],
      "execution_count": 9,
      "outputs": [
        {
          "output_type": "stream",
          "text": [
            "a -> b -> c -> None\n"
          ],
          "name": "stdout"
        }
      ]
    }
  ]
}